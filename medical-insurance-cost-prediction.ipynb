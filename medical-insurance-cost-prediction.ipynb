{
 "cells": [
  {
   "cell_type": "code",
   "execution_count": 1,
   "id": "7608ec84",
   "metadata": {
    "_cell_guid": "b1076dfc-b9ad-4769-8c92-a6c4dae69d19",
    "_uuid": "8f2839f25d086af736a60e9eeb907d3b93b6e0e5",
    "execution": {
     "iopub.execute_input": "2022-02-08T12:04:57.592537Z",
     "iopub.status.busy": "2022-02-08T12:04:57.591931Z",
     "iopub.status.idle": "2022-02-08T12:04:58.864755Z",
     "shell.execute_reply": "2022-02-08T12:04:58.863799Z",
     "shell.execute_reply.started": "2022-02-08T11:46:05.276826Z"
    },
    "papermill": {
     "duration": 1.321302,
     "end_time": "2022-02-08T12:04:58.864930",
     "exception": false,
     "start_time": "2022-02-08T12:04:57.543628",
     "status": "completed"
    },
    "tags": []
   },
   "outputs": [],
   "source": [
    "import os\n",
    "import numpy as np # for linear algebra related tasks\n",
    "import pandas as pd # for immporting data and data analysis\n",
    "import numpy as np\n",
    "import pandas as pd\n",
    "import matplotlib.pyplot as plt\n",
    "import seaborn as sns\n",
    "from sklearn.model_selection import train_test_split\n",
    "from sklearn.linear_model import LinearRegression\n",
    "from sklearn import metrics"
   ]
  },
  {
   "cell_type": "markdown",
   "id": "e946dbd4",
   "metadata": {
    "papermill": {
     "duration": 0.034291,
     "end_time": "2022-02-08T12:04:58.939885",
     "exception": false,
     "start_time": "2022-02-08T12:04:58.905594",
     "status": "completed"
    },
    "tags": []
   },
   "source": [
    "# 0. DATA COLLECTION"
   ]
  },
  {
   "cell_type": "code",
   "execution_count": 2,
   "id": "35e5f720",
   "metadata": {
    "execution": {
     "iopub.execute_input": "2022-02-08T12:04:59.017879Z",
     "iopub.status.busy": "2022-02-08T12:04:59.017178Z",
     "iopub.status.idle": "2022-02-08T12:04:59.031612Z",
     "shell.execute_reply": "2022-02-08T12:04:59.032286Z",
     "shell.execute_reply.started": "2022-02-08T11:46:06.793795Z"
    },
    "papermill": {
     "duration": 0.058253,
     "end_time": "2022-02-08T12:04:59.032509",
     "exception": false,
     "start_time": "2022-02-08T12:04:58.974256",
     "status": "completed"
    },
    "tags": []
   },
   "outputs": [
    {
     "name": "stdout",
     "output_type": "stream",
     "text": [
      "/kaggle/input/insurance/insurance.csv\n"
     ]
    }
   ],
   "source": [
    "for dirname, _, filenames in os.walk('/kaggle/input'):\n",
    "    for filename in filenames:\n",
    "        print(os.path.join(dirname, filename))"
   ]
  },
  {
   "cell_type": "code",
   "execution_count": 3,
   "id": "038e8284",
   "metadata": {
    "execution": {
     "iopub.execute_input": "2022-02-08T12:04:59.108624Z",
     "iopub.status.busy": "2022-02-08T12:04:59.107792Z",
     "iopub.status.idle": "2022-02-08T12:04:59.129509Z",
     "shell.execute_reply": "2022-02-08T12:04:59.130123Z",
     "shell.execute_reply.started": "2022-02-08T11:46:06.810170Z"
    },
    "papermill": {
     "duration": 0.060772,
     "end_time": "2022-02-08T12:04:59.130312",
     "exception": false,
     "start_time": "2022-02-08T12:04:59.069540",
     "status": "completed"
    },
    "tags": []
   },
   "outputs": [],
   "source": [
    "# imporing the dataset as a dataframe into a variable \"rdf\" which basically means raw dataframe.\n",
    "rdf = pd.read_csv(\"/kaggle/input/insurance/insurance.csv\")"
   ]
  },
  {
   "cell_type": "code",
   "execution_count": 4,
   "id": "0cde7229",
   "metadata": {
    "execution": {
     "iopub.execute_input": "2022-02-08T12:04:59.204963Z",
     "iopub.status.busy": "2022-02-08T12:04:59.204128Z",
     "iopub.status.idle": "2022-02-08T12:04:59.227934Z",
     "shell.execute_reply": "2022-02-08T12:04:59.228707Z",
     "shell.execute_reply.started": "2022-02-08T11:46:06.831845Z"
    },
    "papermill": {
     "duration": 0.063344,
     "end_time": "2022-02-08T12:04:59.228979",
     "exception": false,
     "start_time": "2022-02-08T12:04:59.165635",
     "status": "completed"
    },
    "tags": []
   },
   "outputs": [
    {
     "data": {
      "text/html": [
       "<div>\n",
       "<style scoped>\n",
       "    .dataframe tbody tr th:only-of-type {\n",
       "        vertical-align: middle;\n",
       "    }\n",
       "\n",
       "    .dataframe tbody tr th {\n",
       "        vertical-align: top;\n",
       "    }\n",
       "\n",
       "    .dataframe thead th {\n",
       "        text-align: right;\n",
       "    }\n",
       "</style>\n",
       "<table border=\"1\" class=\"dataframe\">\n",
       "  <thead>\n",
       "    <tr style=\"text-align: right;\">\n",
       "      <th></th>\n",
       "      <th>age</th>\n",
       "      <th>sex</th>\n",
       "      <th>bmi</th>\n",
       "      <th>children</th>\n",
       "      <th>smoker</th>\n",
       "      <th>region</th>\n",
       "      <th>charges</th>\n",
       "    </tr>\n",
       "  </thead>\n",
       "  <tbody>\n",
       "    <tr>\n",
       "      <th>0</th>\n",
       "      <td>19</td>\n",
       "      <td>female</td>\n",
       "      <td>27.900</td>\n",
       "      <td>0</td>\n",
       "      <td>yes</td>\n",
       "      <td>southwest</td>\n",
       "      <td>16884.92400</td>\n",
       "    </tr>\n",
       "    <tr>\n",
       "      <th>1</th>\n",
       "      <td>18</td>\n",
       "      <td>male</td>\n",
       "      <td>33.770</td>\n",
       "      <td>1</td>\n",
       "      <td>no</td>\n",
       "      <td>southeast</td>\n",
       "      <td>1725.55230</td>\n",
       "    </tr>\n",
       "    <tr>\n",
       "      <th>2</th>\n",
       "      <td>28</td>\n",
       "      <td>male</td>\n",
       "      <td>33.000</td>\n",
       "      <td>3</td>\n",
       "      <td>no</td>\n",
       "      <td>southeast</td>\n",
       "      <td>4449.46200</td>\n",
       "    </tr>\n",
       "    <tr>\n",
       "      <th>3</th>\n",
       "      <td>33</td>\n",
       "      <td>male</td>\n",
       "      <td>22.705</td>\n",
       "      <td>0</td>\n",
       "      <td>no</td>\n",
       "      <td>northwest</td>\n",
       "      <td>21984.47061</td>\n",
       "    </tr>\n",
       "    <tr>\n",
       "      <th>4</th>\n",
       "      <td>32</td>\n",
       "      <td>male</td>\n",
       "      <td>28.880</td>\n",
       "      <td>0</td>\n",
       "      <td>no</td>\n",
       "      <td>northwest</td>\n",
       "      <td>3866.85520</td>\n",
       "    </tr>\n",
       "  </tbody>\n",
       "</table>\n",
       "</div>"
      ],
      "text/plain": [
       "   age     sex     bmi  children smoker     region      charges\n",
       "0   19  female  27.900         0    yes  southwest  16884.92400\n",
       "1   18    male  33.770         1     no  southeast   1725.55230\n",
       "2   28    male  33.000         3     no  southeast   4449.46200\n",
       "3   33    male  22.705         0     no  northwest  21984.47061\n",
       "4   32    male  28.880         0     no  northwest   3866.85520"
      ]
     },
     "execution_count": 4,
     "metadata": {},
     "output_type": "execute_result"
    }
   ],
   "source": [
    "rdf.head()"
   ]
  },
  {
   "cell_type": "markdown",
   "id": "18745c7b",
   "metadata": {
    "papermill": {
     "duration": 0.035097,
     "end_time": "2022-02-08T12:04:59.304496",
     "exception": false,
     "start_time": "2022-02-08T12:04:59.269399",
     "status": "completed"
    },
    "tags": []
   },
   "source": [
    "# 1.DATA ANALYSIS"
   ]
  },
  {
   "cell_type": "markdown",
   "id": "4f102fae",
   "metadata": {
    "papermill": {
     "duration": 0.035021,
     "end_time": "2022-02-08T12:04:59.377102",
     "exception": false,
     "start_time": "2022-02-08T12:04:59.342081",
     "status": "completed"
    },
    "tags": []
   },
   "source": [
    "## 1.1.BASIC DATA ANALYSIS"
   ]
  },
  {
   "cell_type": "code",
   "execution_count": 5,
   "id": "d91073a0",
   "metadata": {
    "execution": {
     "iopub.execute_input": "2022-02-08T12:04:59.450423Z",
     "iopub.status.busy": "2022-02-08T12:04:59.449802Z",
     "iopub.status.idle": "2022-02-08T12:04:59.454244Z",
     "shell.execute_reply": "2022-02-08T12:04:59.454749Z",
     "shell.execute_reply.started": "2022-02-08T11:46:06.854622Z"
    },
    "papermill": {
     "duration": 0.042548,
     "end_time": "2022-02-08T12:04:59.454912",
     "exception": false,
     "start_time": "2022-02-08T12:04:59.412364",
     "status": "completed"
    },
    "tags": []
   },
   "outputs": [
    {
     "data": {
      "text/plain": [
       "(1338, 7)"
      ]
     },
     "execution_count": 5,
     "metadata": {},
     "output_type": "execute_result"
    }
   ],
   "source": [
    "# number of rows and columns:\n",
    "rdf.shape"
   ]
  },
  {
   "cell_type": "code",
   "execution_count": 6,
   "id": "a7ca48e7",
   "metadata": {
    "execution": {
     "iopub.execute_input": "2022-02-08T12:04:59.531186Z",
     "iopub.status.busy": "2022-02-08T12:04:59.530543Z",
     "iopub.status.idle": "2022-02-08T12:04:59.553068Z",
     "shell.execute_reply": "2022-02-08T12:04:59.553667Z",
     "shell.execute_reply.started": "2022-02-08T11:46:06.861272Z"
    },
    "papermill": {
     "duration": 0.062111,
     "end_time": "2022-02-08T12:04:59.554013",
     "exception": false,
     "start_time": "2022-02-08T12:04:59.491902",
     "status": "completed"
    },
    "tags": []
   },
   "outputs": [
    {
     "name": "stdout",
     "output_type": "stream",
     "text": [
      "<class 'pandas.core.frame.DataFrame'>\n",
      "RangeIndex: 1338 entries, 0 to 1337\n",
      "Data columns (total 7 columns):\n",
      " #   Column    Non-Null Count  Dtype  \n",
      "---  ------    --------------  -----  \n",
      " 0   age       1338 non-null   int64  \n",
      " 1   sex       1338 non-null   object \n",
      " 2   bmi       1338 non-null   float64\n",
      " 3   children  1338 non-null   int64  \n",
      " 4   smoker    1338 non-null   object \n",
      " 5   region    1338 non-null   object \n",
      " 6   charges   1338 non-null   float64\n",
      "dtypes: float64(2), int64(2), object(3)\n",
      "memory usage: 73.3+ KB\n"
     ]
    }
   ],
   "source": [
    "#info about the dataset:\n",
    "rdf.info()"
   ]
  },
  {
   "cell_type": "code",
   "execution_count": 7,
   "id": "f9a0a1b6",
   "metadata": {
    "execution": {
     "iopub.execute_input": "2022-02-08T12:04:59.633931Z",
     "iopub.status.busy": "2022-02-08T12:04:59.628526Z",
     "iopub.status.idle": "2022-02-08T12:04:59.636774Z",
     "shell.execute_reply": "2022-02-08T12:04:59.637374Z",
     "shell.execute_reply.started": "2022-02-08T11:46:06.893930Z"
    },
    "papermill": {
     "duration": 0.047743,
     "end_time": "2022-02-08T12:04:59.637536",
     "exception": false,
     "start_time": "2022-02-08T12:04:59.589793",
     "status": "completed"
    },
    "tags": []
   },
   "outputs": [
    {
     "data": {
      "text/plain": [
       "age         0\n",
       "sex         0\n",
       "bmi         0\n",
       "children    0\n",
       "smoker      0\n",
       "region      0\n",
       "charges     0\n",
       "dtype: int64"
      ]
     },
     "execution_count": 7,
     "metadata": {},
     "output_type": "execute_result"
    }
   ],
   "source": [
    "#checking for null values:\n",
    "rdf.isnull().sum()"
   ]
  },
  {
   "cell_type": "markdown",
   "id": "91f75a3d",
   "metadata": {
    "papermill": {
     "duration": 0.036521,
     "end_time": "2022-02-08T12:04:59.710885",
     "exception": false,
     "start_time": "2022-02-08T12:04:59.674364",
     "status": "completed"
    },
    "tags": []
   },
   "source": [
    "### INFERENCES:\n",
    "1. The data contains 7 insurance related parameters(features) for 1338 people(data points).\n",
    "2. There are no null values in any of the columns.\n",
    "3. There are 4 numeric features (age, children, bmi, charges); 3 categorical features (sex,smoker,religion)."
   ]
  },
  {
   "cell_type": "markdown",
   "id": "81509142",
   "metadata": {
    "papermill": {
     "duration": 0.036131,
     "end_time": "2022-02-08T12:04:59.783043",
     "exception": false,
     "start_time": "2022-02-08T12:04:59.746912",
     "status": "completed"
    },
    "tags": []
   },
   "source": [
    "## 1.2.DESCRIPTIVE ANALYSIS"
   ]
  },
  {
   "cell_type": "code",
   "execution_count": 8,
   "id": "6140536a",
   "metadata": {
    "execution": {
     "iopub.execute_input": "2022-02-08T12:04:59.858883Z",
     "iopub.status.busy": "2022-02-08T12:04:59.858013Z",
     "iopub.status.idle": "2022-02-08T12:04:59.880041Z",
     "shell.execute_reply": "2022-02-08T12:04:59.880476Z",
     "shell.execute_reply.started": "2022-02-08T11:46:06.907826Z"
    },
    "papermill": {
     "duration": 0.061461,
     "end_time": "2022-02-08T12:04:59.880658",
     "exception": false,
     "start_time": "2022-02-08T12:04:59.819197",
     "status": "completed"
    },
    "tags": []
   },
   "outputs": [
    {
     "data": {
      "text/html": [
       "<div>\n",
       "<style scoped>\n",
       "    .dataframe tbody tr th:only-of-type {\n",
       "        vertical-align: middle;\n",
       "    }\n",
       "\n",
       "    .dataframe tbody tr th {\n",
       "        vertical-align: top;\n",
       "    }\n",
       "\n",
       "    .dataframe thead th {\n",
       "        text-align: right;\n",
       "    }\n",
       "</style>\n",
       "<table border=\"1\" class=\"dataframe\">\n",
       "  <thead>\n",
       "    <tr style=\"text-align: right;\">\n",
       "      <th></th>\n",
       "      <th>age</th>\n",
       "      <th>bmi</th>\n",
       "      <th>children</th>\n",
       "      <th>charges</th>\n",
       "    </tr>\n",
       "  </thead>\n",
       "  <tbody>\n",
       "    <tr>\n",
       "      <th>count</th>\n",
       "      <td>1338.000000</td>\n",
       "      <td>1338.000000</td>\n",
       "      <td>1338.000000</td>\n",
       "      <td>1338.000000</td>\n",
       "    </tr>\n",
       "    <tr>\n",
       "      <th>mean</th>\n",
       "      <td>39.207025</td>\n",
       "      <td>30.663397</td>\n",
       "      <td>1.094918</td>\n",
       "      <td>13270.422265</td>\n",
       "    </tr>\n",
       "    <tr>\n",
       "      <th>std</th>\n",
       "      <td>14.049960</td>\n",
       "      <td>6.098187</td>\n",
       "      <td>1.205493</td>\n",
       "      <td>12110.011237</td>\n",
       "    </tr>\n",
       "    <tr>\n",
       "      <th>min</th>\n",
       "      <td>18.000000</td>\n",
       "      <td>15.960000</td>\n",
       "      <td>0.000000</td>\n",
       "      <td>1121.873900</td>\n",
       "    </tr>\n",
       "    <tr>\n",
       "      <th>25%</th>\n",
       "      <td>27.000000</td>\n",
       "      <td>26.296250</td>\n",
       "      <td>0.000000</td>\n",
       "      <td>4740.287150</td>\n",
       "    </tr>\n",
       "    <tr>\n",
       "      <th>50%</th>\n",
       "      <td>39.000000</td>\n",
       "      <td>30.400000</td>\n",
       "      <td>1.000000</td>\n",
       "      <td>9382.033000</td>\n",
       "    </tr>\n",
       "    <tr>\n",
       "      <th>75%</th>\n",
       "      <td>51.000000</td>\n",
       "      <td>34.693750</td>\n",
       "      <td>2.000000</td>\n",
       "      <td>16639.912515</td>\n",
       "    </tr>\n",
       "    <tr>\n",
       "      <th>max</th>\n",
       "      <td>64.000000</td>\n",
       "      <td>53.130000</td>\n",
       "      <td>5.000000</td>\n",
       "      <td>63770.428010</td>\n",
       "    </tr>\n",
       "  </tbody>\n",
       "</table>\n",
       "</div>"
      ],
      "text/plain": [
       "               age          bmi     children       charges\n",
       "count  1338.000000  1338.000000  1338.000000   1338.000000\n",
       "mean     39.207025    30.663397     1.094918  13270.422265\n",
       "std      14.049960     6.098187     1.205493  12110.011237\n",
       "min      18.000000    15.960000     0.000000   1121.873900\n",
       "25%      27.000000    26.296250     0.000000   4740.287150\n",
       "50%      39.000000    30.400000     1.000000   9382.033000\n",
       "75%      51.000000    34.693750     2.000000  16639.912515\n",
       "max      64.000000    53.130000     5.000000  63770.428010"
      ]
     },
     "execution_count": 8,
     "metadata": {},
     "output_type": "execute_result"
    }
   ],
   "source": [
    "#describing the dataset:\n",
    "rdf.describe()"
   ]
  },
  {
   "cell_type": "markdown",
   "id": "163e234c",
   "metadata": {
    "papermill": {
     "duration": 0.037497,
     "end_time": "2022-02-08T12:04:59.954855",
     "exception": false,
     "start_time": "2022-02-08T12:04:59.917358",
     "status": "completed"
    },
    "tags": []
   },
   "source": [
    "### 1.2.1.UNIVARIATE ANALYSIS"
   ]
  },
  {
   "cell_type": "code",
   "execution_count": 9,
   "id": "b9d92af8",
   "metadata": {
    "execution": {
     "iopub.execute_input": "2022-02-08T12:05:00.038017Z",
     "iopub.status.busy": "2022-02-08T12:05:00.037399Z",
     "iopub.status.idle": "2022-02-08T12:05:00.420345Z",
     "shell.execute_reply": "2022-02-08T12:05:00.420814Z",
     "shell.execute_reply.started": "2022-02-08T11:46:06.935951Z"
    },
    "papermill": {
     "duration": 0.429604,
     "end_time": "2022-02-08T12:05:00.420987",
     "exception": false,
     "start_time": "2022-02-08T12:04:59.991383",
     "status": "completed"
    },
    "tags": []
   },
   "outputs": [
    {
     "data": {
      "text/plain": [
       "<Figure size 432x432 with 0 Axes>"
      ]
     },
     "metadata": {},
     "output_type": "display_data"
    },
    {
     "data": {
      "image/png": "[encoded data removed]",
      "text/plain": [
       "<Figure size 360x360 with 1 Axes>"
      ]
     },
     "metadata": {},
     "output_type": "display_data"
    }
   ],
   "source": [
    "# analysis of \"age\" column\n",
    "sns.set()\n",
    "plt.figure(figsize=(6,6))\n",
    "sns.displot(rdf['age'])\n",
    "plt.title(\"Age Distribution\")\n",
    "plt.show()"
   ]
  },
  {
   "cell_type": "code",
   "execution_count": 10,
   "id": "a283ff0b",
   "metadata": {
    "execution": {
     "iopub.execute_input": "2022-02-08T12:05:00.500973Z",
     "iopub.status.busy": "2022-02-08T12:05:00.500021Z",
     "iopub.status.idle": "2022-02-08T12:05:00.682554Z",
     "shell.execute_reply": "2022-02-08T12:05:00.683101Z",
     "shell.execute_reply.started": "2022-02-08T11:46:07.390019Z"
    },
    "papermill": {
     "duration": 0.224422,
     "end_time": "2022-02-08T12:05:00.683296",
     "exception": false,
     "start_time": "2022-02-08T12:05:00.458874",
     "status": "completed"
    },
    "tags": []
   },
   "outputs": [
    {
     "name": "stderr",
     "output_type": "stream",
     "text": [
      "/opt/conda/lib/python3.7/site-packages/seaborn/_decorators.py:43: FutureWarning: Pass the following variable as a keyword arg: x. From version 0.12, the only valid positional argument will be `data`, and passing other arguments without an explicit keyword will result in an error or misinterpretation.\n",
      "  FutureWarning\n"
     ]
    },
    {
     "data": {
      "image/png": "[encoded data removed]",
      "text/plain": [
       "<Figure size 432x432 with 1 Axes>"
      ]
     },
     "metadata": {},
     "output_type": "display_data"
    },
    {
     "name": "stdout",
     "output_type": "stream",
     "text": [
      "male      676\n",
      "female    662\n",
      "Name: sex, dtype: int64\n"
     ]
    }
   ],
   "source": [
    "# analysis of \"sex\" column\n",
    "plt.figure(figsize=(6,6))\n",
    "sns.countplot(rdf['sex'])\n",
    "plt.title(\"Gender Distribution\")\n",
    "plt.show()\n",
    "\n",
    "print(rdf[\"sex\"].value_counts())"
   ]
  },
  {
   "cell_type": "code",
   "execution_count": 11,
   "id": "abdf6ded",
   "metadata": {
    "execution": {
     "iopub.execute_input": "2022-02-08T12:05:00.777228Z",
     "iopub.status.busy": "2022-02-08T12:05:00.776198Z",
     "iopub.status.idle": "2022-02-08T12:05:01.193104Z",
     "shell.execute_reply": "2022-02-08T12:05:01.193580Z",
     "shell.execute_reply.started": "2022-02-08T11:46:07.573971Z"
    },
    "papermill": {
     "duration": 0.470538,
     "end_time": "2022-02-08T12:05:01.193800",
     "exception": false,
     "start_time": "2022-02-08T12:05:00.723262",
     "status": "completed"
    },
    "tags": []
   },
   "outputs": [
    {
     "data": {
      "text/plain": [
       "<Figure size 432x432 with 0 Axes>"
      ]
     },
     "metadata": {},
     "output_type": "display_data"
    },
    {
     "data": {
      "image/png": "[encoded data removed]",
      "text/plain": [
       "<Figure size 360x360 with 1 Axes>"
      ]
     },
     "metadata": {},
     "output_type": "display_data"
    }
   ],
   "source": [
    "# analysis of \"bmi\" column\n",
    "sns.set()\n",
    "plt.figure(figsize=(6,6))\n",
    "sns.displot(rdf['bmi'])\n",
    "plt.title(\"BMI Distribution\")\n",
    "plt.show()"
   ]
  },
  {
   "cell_type": "code",
   "execution_count": 12,
   "id": "d7f12c40",
   "metadata": {
    "execution": {
     "iopub.execute_input": "2022-02-08T12:05:01.280270Z",
     "iopub.status.busy": "2022-02-08T12:05:01.279249Z",
     "iopub.status.idle": "2022-02-08T12:05:01.494461Z",
     "shell.execute_reply": "2022-02-08T12:05:01.493894Z",
     "shell.execute_reply.started": "2022-02-08T11:46:07.992894Z"
    },
    "papermill": {
     "duration": 0.259491,
     "end_time": "2022-02-08T12:05:01.494597",
     "exception": false,
     "start_time": "2022-02-08T12:05:01.235106",
     "status": "completed"
    },
    "tags": []
   },
   "outputs": [
    {
     "name": "stderr",
     "output_type": "stream",
     "text": [
      "/opt/conda/lib/python3.7/site-packages/seaborn/_decorators.py:43: FutureWarning: Pass the following variable as a keyword arg: x. From version 0.12, the only valid positional argument will be `data`, and passing other arguments without an explicit keyword will result in an error or misinterpretation.\n",
      "  FutureWarning\n"
     ]
    },
    {
     "data": {
      "image/png": "[encoded data removed]",
      "text/plain": [
       "<Figure size 432x432 with 1 Axes>"
      ]
     },
     "metadata": {},
     "output_type": "display_data"
    },
    {
     "name": "stdout",
     "output_type": "stream",
     "text": [
      "0    574\n",
      "1    324\n",
      "2    240\n",
      "3    157\n",
      "4     25\n",
      "5     18\n",
      "Name: children, dtype: int64\n"
     ]
    }
   ],
   "source": [
    "# analysis of \"children\" column\n",
    "sns.set()\n",
    "plt.figure(figsize=(6,6))\n",
    "sns.countplot(rdf['children'])\n",
    "plt.title(\"Children Count\")\n",
    "plt.show()\n",
    "\n",
    "print(rdf[\"children\"].value_counts())"
   ]
  },
  {
   "cell_type": "code",
   "execution_count": 13,
   "id": "ed3f85ed",
   "metadata": {
    "execution": {
     "iopub.execute_input": "2022-02-08T12:05:01.581313Z",
     "iopub.status.busy": "2022-02-08T12:05:01.580672Z",
     "iopub.status.idle": "2022-02-08T12:05:01.753223Z",
     "shell.execute_reply": "2022-02-08T12:05:01.753748Z",
     "shell.execute_reply.started": "2022-02-08T11:46:08.209390Z"
    },
    "papermill": {
     "duration": 0.217746,
     "end_time": "2022-02-08T12:05:01.753947",
     "exception": false,
     "start_time": "2022-02-08T12:05:01.536201",
     "status": "completed"
    },
    "tags": []
   },
   "outputs": [
    {
     "name": "stderr",
     "output_type": "stream",
     "text": [
      "/opt/conda/lib/python3.7/site-packages/seaborn/_decorators.py:43: FutureWarning: Pass the following variable as a keyword arg: x. From version 0.12, the only valid positional argument will be `data`, and passing other arguments without an explicit keyword will result in an error or misinterpretation.\n",
      "  FutureWarning\n"
     ]
    },
    {
     "data": {
      "image/png": "[encoded data removed]",
      "text/plain": [
       "<Figure size 432x432 with 1 Axes>"
      ]
     },
     "metadata": {},
     "output_type": "display_data"
    },
    {
     "name": "stdout",
     "output_type": "stream",
     "text": [
      "no     1064\n",
      "yes     274\n",
      "Name: smoker, dtype: int64\n"
     ]
    }
   ],
   "source": [
    "# analysis of \"smoker\" column\n",
    "sns.set()\n",
    "plt.figure(figsize=(6,6))\n",
    "sns.countplot(rdf['smoker'])\n",
    "plt.title(\"Smoker Count\")\n",
    "plt.show()\n",
    "\n",
    "print(rdf[\"smoker\"].value_counts())"
   ]
  },
  {
   "cell_type": "code",
   "execution_count": 14,
   "id": "5688afea",
   "metadata": {
    "execution": {
     "iopub.execute_input": "2022-02-08T12:05:01.849629Z",
     "iopub.status.busy": "2022-02-08T12:05:01.848596Z",
     "iopub.status.idle": "2022-02-08T12:05:02.051912Z",
     "shell.execute_reply": "2022-02-08T12:05:02.052398Z",
     "shell.execute_reply.started": "2022-02-08T11:46:08.394357Z"
    },
    "papermill": {
     "duration": 0.254458,
     "end_time": "2022-02-08T12:05:02.052570",
     "exception": false,
     "start_time": "2022-02-08T12:05:01.798112",
     "status": "completed"
    },
    "tags": []
   },
   "outputs": [
    {
     "name": "stderr",
     "output_type": "stream",
     "text": [
      "/opt/conda/lib/python3.7/site-packages/seaborn/_decorators.py:43: FutureWarning: Pass the following variable as a keyword arg: x. From version 0.12, the only valid positional argument will be `data`, and passing other arguments without an explicit keyword will result in an error or misinterpretation.\n",
      "  FutureWarning\n"
     ]
    },
    {
     "data": {
      "image/png": "[encoded data removed]",
      "text/plain": [
       "<Figure size 432x432 with 1 Axes>"
      ]
     },
     "metadata": {},
     "output_type": "display_data"
    },
    {
     "name": "stdout",
     "output_type": "stream",
     "text": [
      "southeast    364\n",
      "southwest    325\n",
      "northwest    325\n",
      "northeast    324\n",
      "Name: region, dtype: int64\n"
     ]
    }
   ],
   "source": [
    "# analysis of \"region\" column\n",
    "sns.set()\n",
    "plt.figure(figsize=(6,6))\n",
    "sns.countplot(rdf['region'])\n",
    "plt.title(\"Region Count\")\n",
    "plt.show()\n",
    "\n",
    "print(rdf[\"region\"].value_counts())"
   ]
  },
  {
   "cell_type": "code",
   "execution_count": 15,
   "id": "6f0aa70d",
   "metadata": {
    "execution": {
     "iopub.execute_input": "2022-02-08T12:05:02.154861Z",
     "iopub.status.busy": "2022-02-08T12:05:02.154210Z",
     "iopub.status.idle": "2022-02-08T12:05:02.585263Z",
     "shell.execute_reply": "2022-02-08T12:05:02.584623Z",
     "shell.execute_reply.started": "2022-02-08T11:46:08.628675Z"
    },
    "papermill": {
     "duration": 0.487486,
     "end_time": "2022-02-08T12:05:02.585396",
     "exception": false,
     "start_time": "2022-02-08T12:05:02.097910",
     "status": "completed"
    },
    "tags": []
   },
   "outputs": [
    {
     "data": {
      "text/plain": [
       "<Figure size 432x432 with 0 Axes>"
      ]
     },
     "metadata": {},
     "output_type": "display_data"
    },
    {
     "data": {
      "image/png": "[encoded data removed]",
      "text/plain": [
       "<Figure size 360x360 with 1 Axes>"
      ]
     },
     "metadata": {},
     "output_type": "display_data"
    }
   ],
   "source": [
    "# analysis of \"charges\" column\n",
    "sns.set()\n",
    "plt.figure(figsize=(6,6))\n",
    "sns.displot(rdf['charges'])\n",
    "plt.title(\"Charge Distribution\")\n",
    "plt.show()"
   ]
  },
  {
   "cell_type": "markdown",
   "id": "d7df3ff1",
   "metadata": {
    "papermill": {
     "duration": 0.045925,
     "end_time": "2022-02-08T12:05:02.677890",
     "exception": false,
     "start_time": "2022-02-08T12:05:02.631965",
     "status": "completed"
    },
    "tags": []
   },
   "source": [
    "### INSIGHTS\n",
    "1. <b>Age Distribution</b>\n",
    "* Most people are around age 20-24.\n",
    "* No. of people around age 24-64 is same.\n",
    "2. <b>Age</b>:\n",
    "* No. of males and females is almost same with males on the higher side.\n",
    "3. <b>BMI</b>:\n",
    "* BMI has a normal distribution.\n",
    "* Maximum people have BMI around 30.\n",
    "* The normal BMI is : 18.5 to 24.9.\n",
    "* Therefore,Majority of poeple are overweight. \n",
    "4. <b>Children</b>:\n",
    "* Maximum people have no children.\n",
    "5. <b>Smoker</b>:\n",
    "* Maximum people are smokers.\n",
    "6. <b>Region</b>:\n",
    "* Almost same number of people are present fromm each region with Southwest having a little more people.\n",
    "7. <b>Charges Distribution</b>\n"
   ]
  },
  {
   "cell_type": "markdown",
   "id": "c793a40a",
   "metadata": {
    "papermill": {
     "duration": 0.045657,
     "end_time": "2022-02-08T12:05:02.769899",
     "exception": false,
     "start_time": "2022-02-08T12:05:02.724242",
     "status": "completed"
    },
    "tags": []
   },
   "source": [
    "# 2. DATA PREPROCESSING"
   ]
  },
  {
   "cell_type": "markdown",
   "id": "02d19134",
   "metadata": {
    "papermill": {
     "duration": 0.045679,
     "end_time": "2022-02-08T12:05:02.861656",
     "exception": false,
     "start_time": "2022-02-08T12:05:02.815977",
     "status": "completed"
    },
    "tags": []
   },
   "source": [
    "## 2.1.ENCODING CATEGORICAL FEATURES"
   ]
  },
  {
   "cell_type": "code",
   "execution_count": 16,
   "id": "592075c5",
   "metadata": {
    "execution": {
     "iopub.execute_input": "2022-02-08T12:05:02.966562Z",
     "iopub.status.busy": "2022-02-08T12:05:02.963553Z",
     "iopub.status.idle": "2022-02-08T12:05:02.970548Z",
     "shell.execute_reply": "2022-02-08T12:05:02.971071Z",
     "shell.execute_reply.started": "2022-02-08T11:46:09.079380Z"
    },
    "papermill": {
     "duration": 0.063845,
     "end_time": "2022-02-08T12:05:02.971245",
     "exception": false,
     "start_time": "2022-02-08T12:05:02.907400",
     "status": "completed"
    },
    "tags": []
   },
   "outputs": [],
   "source": [
    "rdf_encoded = rdf.copy()\n",
    "\n",
    "#encoding \"sex\" column:\n",
    "rdf_encoded.replace({'sex':{'male':0, 'female':1}},inplace = True)\n",
    "\n",
    "#encoding \"smoker\" column:\n",
    "rdf_encoded.replace({'smoker':{'yes':0, 'no':1}},inplace = True)\n",
    "\n",
    "#encoding \"region\" column:\n",
    "rdf_encoded.replace({'region':{'southeast':0,'northwest':1,'southwest':2,'northeast':3,}},inplace = True)"
   ]
  },
  {
   "cell_type": "code",
   "execution_count": 17,
   "id": "07258a94",
   "metadata": {
    "execution": {
     "iopub.execute_input": "2022-02-08T12:05:03.075369Z",
     "iopub.status.busy": "2022-02-08T12:05:03.074709Z",
     "iopub.status.idle": "2022-02-08T12:05:03.077157Z",
     "shell.execute_reply": "2022-02-08T12:05:03.077699Z",
     "shell.execute_reply.started": "2022-02-08T11:46:09.095903Z"
    },
    "papermill": {
     "duration": 0.06041,
     "end_time": "2022-02-08T12:05:03.077892",
     "exception": false,
     "start_time": "2022-02-08T12:05:03.017482",
     "status": "completed"
    },
    "tags": []
   },
   "outputs": [
    {
     "data": {
      "text/html": [
       "<div>\n",
       "<style scoped>\n",
       "    .dataframe tbody tr th:only-of-type {\n",
       "        vertical-align: middle;\n",
       "    }\n",
       "\n",
       "    .dataframe tbody tr th {\n",
       "        vertical-align: top;\n",
       "    }\n",
       "\n",
       "    .dataframe thead th {\n",
       "        text-align: right;\n",
       "    }\n",
       "</style>\n",
       "<table border=\"1\" class=\"dataframe\">\n",
       "  <thead>\n",
       "    <tr style=\"text-align: right;\">\n",
       "      <th></th>\n",
       "      <th>age</th>\n",
       "      <th>sex</th>\n",
       "      <th>bmi</th>\n",
       "      <th>children</th>\n",
       "      <th>smoker</th>\n",
       "      <th>region</th>\n",
       "      <th>charges</th>\n",
       "    </tr>\n",
       "  </thead>\n",
       "  <tbody>\n",
       "    <tr>\n",
       "      <th>0</th>\n",
       "      <td>19</td>\n",
       "      <td>1</td>\n",
       "      <td>27.900</td>\n",
       "      <td>0</td>\n",
       "      <td>0</td>\n",
       "      <td>2</td>\n",
       "      <td>16884.92400</td>\n",
       "    </tr>\n",
       "    <tr>\n",
       "      <th>1</th>\n",
       "      <td>18</td>\n",
       "      <td>0</td>\n",
       "      <td>33.770</td>\n",
       "      <td>1</td>\n",
       "      <td>1</td>\n",
       "      <td>0</td>\n",
       "      <td>1725.55230</td>\n",
       "    </tr>\n",
       "    <tr>\n",
       "      <th>2</th>\n",
       "      <td>28</td>\n",
       "      <td>0</td>\n",
       "      <td>33.000</td>\n",
       "      <td>3</td>\n",
       "      <td>1</td>\n",
       "      <td>0</td>\n",
       "      <td>4449.46200</td>\n",
       "    </tr>\n",
       "    <tr>\n",
       "      <th>3</th>\n",
       "      <td>33</td>\n",
       "      <td>0</td>\n",
       "      <td>22.705</td>\n",
       "      <td>0</td>\n",
       "      <td>1</td>\n",
       "      <td>1</td>\n",
       "      <td>21984.47061</td>\n",
       "    </tr>\n",
       "    <tr>\n",
       "      <th>4</th>\n",
       "      <td>32</td>\n",
       "      <td>0</td>\n",
       "      <td>28.880</td>\n",
       "      <td>0</td>\n",
       "      <td>1</td>\n",
       "      <td>1</td>\n",
       "      <td>3866.85520</td>\n",
       "    </tr>\n",
       "  </tbody>\n",
       "</table>\n",
       "</div>"
      ],
      "text/plain": [
       "   age  sex     bmi  children  smoker  region      charges\n",
       "0   19    1  27.900         0       0       2  16884.92400\n",
       "1   18    0  33.770         1       1       0   1725.55230\n",
       "2   28    0  33.000         3       1       0   4449.46200\n",
       "3   33    0  22.705         0       1       1  21984.47061\n",
       "4   32    0  28.880         0       1       1   3866.85520"
      ]
     },
     "execution_count": 17,
     "metadata": {},
     "output_type": "execute_result"
    }
   ],
   "source": [
    "rdf_encoded.head()"
   ]
  },
  {
   "cell_type": "markdown",
   "id": "d6ca3f3a",
   "metadata": {
    "papermill": {
     "duration": 0.04654,
     "end_time": "2022-02-08T12:05:03.170920",
     "exception": false,
     "start_time": "2022-02-08T12:05:03.124380",
     "status": "completed"
    },
    "tags": []
   },
   "source": [
    "## 2.2. Feature-Target Split"
   ]
  },
  {
   "cell_type": "code",
   "execution_count": 18,
   "id": "befcec96",
   "metadata": {
    "execution": {
     "iopub.execute_input": "2022-02-08T12:05:03.268547Z",
     "iopub.status.busy": "2022-02-08T12:05:03.267868Z",
     "iopub.status.idle": "2022-02-08T12:05:03.273821Z",
     "shell.execute_reply": "2022-02-08T12:05:03.273255Z",
     "shell.execute_reply.started": "2022-02-08T11:46:09.108978Z"
    },
    "papermill": {
     "duration": 0.055605,
     "end_time": "2022-02-08T12:05:03.273973",
     "exception": false,
     "start_time": "2022-02-08T12:05:03.218368",
     "status": "completed"
    },
    "tags": []
   },
   "outputs": [],
   "source": [
    "X = rdf_encoded.drop(columns='charges',axis=1)\n",
    "y = rdf_encoded['charges']"
   ]
  },
  {
   "cell_type": "code",
   "execution_count": 19,
   "id": "ba35003e",
   "metadata": {
    "execution": {
     "iopub.execute_input": "2022-02-08T12:05:03.372185Z",
     "iopub.status.busy": "2022-02-08T12:05:03.371512Z",
     "iopub.status.idle": "2022-02-08T12:05:03.378882Z",
     "shell.execute_reply": "2022-02-08T12:05:03.379333Z",
     "shell.execute_reply.started": "2022-02-08T11:46:09.121937Z"
    },
    "papermill": {
     "duration": 0.058343,
     "end_time": "2022-02-08T12:05:03.379499",
     "exception": false,
     "start_time": "2022-02-08T12:05:03.321156",
     "status": "completed"
    },
    "tags": []
   },
   "outputs": [
    {
     "name": "stdout",
     "output_type": "stream",
     "text": [
      "   age  sex     bmi  children  smoker  region\n",
      "0   19    1  27.900         0       0       2\n",
      "1   18    0  33.770         1       1       0\n",
      "2   28    0  33.000         3       1       0\n",
      "3   33    0  22.705         0       1       1\n",
      "4   32    0  28.880         0       1       1\n"
     ]
    }
   ],
   "source": [
    "print(X.head())"
   ]
  },
  {
   "cell_type": "code",
   "execution_count": 20,
   "id": "edbe932e",
   "metadata": {
    "execution": {
     "iopub.execute_input": "2022-02-08T12:05:03.476355Z",
     "iopub.status.busy": "2022-02-08T12:05:03.475744Z",
     "iopub.status.idle": "2022-02-08T12:05:03.481675Z",
     "shell.execute_reply": "2022-02-08T12:05:03.481201Z",
     "shell.execute_reply.started": "2022-02-08T11:46:09.137423Z"
    },
    "papermill": {
     "duration": 0.055336,
     "end_time": "2022-02-08T12:05:03.481840",
     "exception": false,
     "start_time": "2022-02-08T12:05:03.426504",
     "status": "completed"
    },
    "tags": []
   },
   "outputs": [
    {
     "name": "stdout",
     "output_type": "stream",
     "text": [
      "0    16884.92400\n",
      "1     1725.55230\n",
      "2     4449.46200\n",
      "3    21984.47061\n",
      "4     3866.85520\n",
      "Name: charges, dtype: float64\n"
     ]
    }
   ],
   "source": [
    "print(y.head())"
   ]
  },
  {
   "cell_type": "markdown",
   "id": "a7a6297d",
   "metadata": {
    "papermill": {
     "duration": 0.04674,
     "end_time": "2022-02-08T12:05:03.576045",
     "exception": false,
     "start_time": "2022-02-08T12:05:03.529305",
     "status": "completed"
    },
    "tags": []
   },
   "source": [
    "## 2.3. Train-Test-Split"
   ]
  },
  {
   "cell_type": "code",
   "execution_count": 21,
   "id": "62310752",
   "metadata": {
    "execution": {
     "iopub.execute_input": "2022-02-08T12:05:03.677876Z",
     "iopub.status.busy": "2022-02-08T12:05:03.677182Z",
     "iopub.status.idle": "2022-02-08T12:05:03.683069Z",
     "shell.execute_reply": "2022-02-08T12:05:03.683528Z",
     "shell.execute_reply.started": "2022-02-08T11:46:09.149219Z"
    },
    "papermill": {
     "duration": 0.060278,
     "end_time": "2022-02-08T12:05:03.683698",
     "exception": false,
     "start_time": "2022-02-08T12:05:03.623420",
     "status": "completed"
    },
    "tags": []
   },
   "outputs": [
    {
     "name": "stdout",
     "output_type": "stream",
     "text": [
      "X_train_shape: (1070, 6)\n",
      "X_test_shape: (268, 6)\n",
      "y_train_shape: (1070,)\n",
      "y_test_shape: (268,)\n"
     ]
    }
   ],
   "source": [
    "X_train,X_test,y_train,y_test = train_test_split(X,y, test_size = 0.2, random_state = 2)\n",
    "print(\"X_train_shape:\", X_train.shape)\n",
    "print(\"X_test_shape:\", X_test.shape)\n",
    "print(\"y_train_shape:\", y_train.shape)\n",
    "print(\"y_test_shape:\", y_test.shape)"
   ]
  },
  {
   "cell_type": "markdown",
   "id": "93d39cff",
   "metadata": {
    "papermill": {
     "duration": 0.048031,
     "end_time": "2022-02-08T12:05:03.780010",
     "exception": false,
     "start_time": "2022-02-08T12:05:03.731979",
     "status": "completed"
    },
    "tags": []
   },
   "source": [
    "## 3.Model Training and Evaluation"
   ]
  },
  {
   "cell_type": "markdown",
   "id": "aa08eede",
   "metadata": {
    "papermill": {
     "duration": 0.047493,
     "end_time": "2022-02-08T12:05:03.878450",
     "exception": false,
     "start_time": "2022-02-08T12:05:03.830957",
     "status": "completed"
    },
    "tags": []
   },
   "source": [
    "## 3.1.Model Training"
   ]
  },
  {
   "cell_type": "code",
   "execution_count": 22,
   "id": "0f19a303",
   "metadata": {
    "execution": {
     "iopub.execute_input": "2022-02-08T12:05:03.977479Z",
     "iopub.status.busy": "2022-02-08T12:05:03.976878Z",
     "iopub.status.idle": "2022-02-08T12:05:03.979973Z",
     "shell.execute_reply": "2022-02-08T12:05:03.980591Z",
     "shell.execute_reply.started": "2022-02-08T11:46:09.165346Z"
    },
    "papermill": {
     "duration": 0.053798,
     "end_time": "2022-02-08T12:05:03.980762",
     "exception": false,
     "start_time": "2022-02-08T12:05:03.926964",
     "status": "completed"
    },
    "tags": []
   },
   "outputs": [],
   "source": [
    "#initializing the model\n",
    "model = LinearRegression()"
   ]
  },
  {
   "cell_type": "code",
   "execution_count": 23,
   "id": "54ba4dd9",
   "metadata": {
    "execution": {
     "iopub.execute_input": "2022-02-08T12:05:04.083653Z",
     "iopub.status.busy": "2022-02-08T12:05:04.080354Z",
     "iopub.status.idle": "2022-02-08T12:05:04.106651Z",
     "shell.execute_reply": "2022-02-08T12:05:04.107199Z",
     "shell.execute_reply.started": "2022-02-08T11:46:09.172953Z"
    },
    "papermill": {
     "duration": 0.077832,
     "end_time": "2022-02-08T12:05:04.107366",
     "exception": false,
     "start_time": "2022-02-08T12:05:04.029534",
     "status": "completed"
    },
    "tags": []
   },
   "outputs": [
    {
     "data": {
      "text/plain": [
       "LinearRegression()"
      ]
     },
     "execution_count": 23,
     "metadata": {},
     "output_type": "execute_result"
    }
   ],
   "source": [
    "#fitting the data into the model\n",
    "model.fit(X_train,y_train)"
   ]
  },
  {
   "cell_type": "markdown",
   "id": "821bcc94",
   "metadata": {
    "papermill": {
     "duration": 0.047605,
     "end_time": "2022-02-08T12:05:04.202904",
     "exception": false,
     "start_time": "2022-02-08T12:05:04.155299",
     "status": "completed"
    },
    "tags": []
   },
   "source": [
    "## 3.2.Model Evaluation"
   ]
  },
  {
   "cell_type": "code",
   "execution_count": 24,
   "id": "246da6c4",
   "metadata": {
    "execution": {
     "iopub.execute_input": "2022-02-08T12:05:04.301983Z",
     "iopub.status.busy": "2022-02-08T12:05:04.301301Z",
     "iopub.status.idle": "2022-02-08T12:05:04.307079Z",
     "shell.execute_reply": "2022-02-08T12:05:04.306573Z",
     "shell.execute_reply.started": "2022-02-08T11:46:09.344216Z"
    },
    "papermill": {
     "duration": 0.056243,
     "end_time": "2022-02-08T12:05:04.307226",
     "exception": false,
     "start_time": "2022-02-08T12:05:04.250983",
     "status": "completed"
    },
    "tags": []
   },
   "outputs": [],
   "source": [
    "#evaluating the predicted values for the training set\n",
    "pred_train = model.predict(X_train)"
   ]
  },
  {
   "cell_type": "code",
   "execution_count": 25,
   "id": "b3caaaa1",
   "metadata": {
    "execution": {
     "iopub.execute_input": "2022-02-08T12:05:04.409675Z",
     "iopub.status.busy": "2022-02-08T12:05:04.408954Z",
     "iopub.status.idle": "2022-02-08T12:05:04.411833Z",
     "shell.execute_reply": "2022-02-08T12:05:04.412323Z",
     "shell.execute_reply.started": "2022-02-08T11:46:09.352077Z"
    },
    "papermill": {
     "duration": 0.056931,
     "end_time": "2022-02-08T12:05:04.412483",
     "exception": false,
     "start_time": "2022-02-08T12:05:04.355552",
     "status": "completed"
    },
    "tags": []
   },
   "outputs": [
    {
     "name": "stdout",
     "output_type": "stream",
     "text": [
      "R2Score: 0.7513870264571597\n"
     ]
    }
   ],
   "source": [
    "# R2Score for training data:\n",
    "r2s_train = metrics.r2_score(y_train, pred_train)\n",
    "print(\"R2Score:\", r2s_train)"
   ]
  },
  {
   "cell_type": "code",
   "execution_count": 26,
   "id": "99e412f9",
   "metadata": {
    "execution": {
     "iopub.execute_input": "2022-02-08T12:05:04.516016Z",
     "iopub.status.busy": "2022-02-08T12:05:04.515254Z",
     "iopub.status.idle": "2022-02-08T12:05:04.517883Z",
     "shell.execute_reply": "2022-02-08T12:05:04.517363Z",
     "shell.execute_reply.started": "2022-02-08T11:46:09.367105Z"
    },
    "papermill": {
     "duration": 0.057106,
     "end_time": "2022-02-08T12:05:04.518036",
     "exception": false,
     "start_time": "2022-02-08T12:05:04.460930",
     "status": "completed"
    },
    "tags": []
   },
   "outputs": [],
   "source": [
    "#evaluating the predicted values for the test set\n",
    "pred_test = model.predict(X_test)"
   ]
  },
  {
   "cell_type": "code",
   "execution_count": 27,
   "id": "23f787ca",
   "metadata": {
    "execution": {
     "iopub.execute_input": "2022-02-08T12:05:04.618778Z",
     "iopub.status.busy": "2022-02-08T12:05:04.617815Z",
     "iopub.status.idle": "2022-02-08T12:05:04.622987Z",
     "shell.execute_reply": "2022-02-08T12:05:04.623441Z",
     "shell.execute_reply.started": "2022-02-08T11:46:09.378386Z"
    },
    "papermill": {
     "duration": 0.056911,
     "end_time": "2022-02-08T12:05:04.623594",
     "exception": false,
     "start_time": "2022-02-08T12:05:04.566683",
     "status": "completed"
    },
    "tags": []
   },
   "outputs": [
    {
     "name": "stdout",
     "output_type": "stream",
     "text": [
      "R-squared value: 0.7441422677793177\n"
     ]
    }
   ],
   "source": [
    "# R2Score for test data:\n",
    "r2s_test = metrics.r2_score(y_test, pred_test)\n",
    "print(\"R-squared value:\", r2s_test)"
   ]
  },
  {
   "cell_type": "markdown",
   "id": "28ad32aa",
   "metadata": {
    "papermill": {
     "duration": 0.049191,
     "end_time": "2022-02-08T12:05:04.721309",
     "exception": false,
     "start_time": "2022-02-08T12:05:04.672118",
     "status": "completed"
    },
    "tags": []
   },
   "source": [
    "# 4. Predictive System and Model Pickling"
   ]
  },
  {
   "cell_type": "markdown",
   "id": "3da679b7",
   "metadata": {
    "papermill": {
     "duration": 0.04891,
     "end_time": "2022-02-08T12:05:04.819965",
     "exception": false,
     "start_time": "2022-02-08T12:05:04.771055",
     "status": "completed"
    },
    "tags": []
   },
   "source": [
    "## 4.1.Predictive System"
   ]
  },
  {
   "cell_type": "code",
   "execution_count": 28,
   "id": "53eae16b",
   "metadata": {
    "execution": {
     "iopub.execute_input": "2022-02-08T12:05:04.921735Z",
     "iopub.status.busy": "2022-02-08T12:05:04.920671Z",
     "iopub.status.idle": "2022-02-08T12:05:04.927510Z",
     "shell.execute_reply": "2022-02-08T12:05:04.928212Z",
     "shell.execute_reply.started": "2022-02-08T11:55:19.973682Z"
    },
    "papermill": {
     "duration": 0.059173,
     "end_time": "2022-02-08T12:05:04.928424",
     "exception": false,
     "start_time": "2022-02-08T12:05:04.869251",
     "status": "completed"
    },
    "tags": []
   },
   "outputs": [
    {
     "name": "stdout",
     "output_type": "stream",
     "text": [
      "Your medican insurance will cost you around: $ 3834.635087252089\n"
     ]
    }
   ],
   "source": [
    "input_data = (31,1,25.74,0,1,0)\n",
    "\n",
    "#to numpy array and reshaping\n",
    "numpy_input = np.asarray(input_data)\n",
    "proper_input = numpy_input.reshape(1,-1)\n",
    "\n",
    "prediction = model.predict(proper_input)\n",
    "print('Your medican insurance will cost you around: $', prediction[0])\n"
   ]
  },
  {
   "cell_type": "markdown",
   "id": "c454f0bf",
   "metadata": {
    "papermill": {
     "duration": 0.048809,
     "end_time": "2022-02-08T12:05:05.027913",
     "exception": false,
     "start_time": "2022-02-08T12:05:04.979104",
     "status": "completed"
    },
    "tags": []
   },
   "source": [
    "## 4.2.Model Pickling"
   ]
  },
  {
   "cell_type": "code",
   "execution_count": 29,
   "id": "c3b2f5c6",
   "metadata": {
    "execution": {
     "iopub.execute_input": "2022-02-08T12:05:05.130043Z",
     "iopub.status.busy": "2022-02-08T12:05:05.129116Z",
     "iopub.status.idle": "2022-02-08T12:05:05.132282Z",
     "shell.execute_reply": "2022-02-08T12:05:05.132797Z",
     "shell.execute_reply.started": "2022-02-08T11:57:16.857972Z"
    },
    "papermill": {
     "duration": 0.055833,
     "end_time": "2022-02-08T12:05:05.132956",
     "exception": false,
     "start_time": "2022-02-08T12:05:05.077123",
     "status": "completed"
    },
    "tags": []
   },
   "outputs": [],
   "source": [
    "import pickle"
   ]
  },
  {
   "cell_type": "code",
   "execution_count": 30,
   "id": "f64d2637",
   "metadata": {
    "execution": {
     "iopub.execute_input": "2022-02-08T12:05:05.236664Z",
     "iopub.status.busy": "2022-02-08T12:05:05.235917Z",
     "iopub.status.idle": "2022-02-08T12:05:05.238566Z",
     "shell.execute_reply": "2022-02-08T12:05:05.239045Z",
     "shell.execute_reply.started": "2022-02-08T11:58:22.741920Z"
    },
    "papermill": {
     "duration": 0.057112,
     "end_time": "2022-02-08T12:05:05.239222",
     "exception": false,
     "start_time": "2022-02-08T12:05:05.182110",
     "status": "completed"
    },
    "tags": []
   },
   "outputs": [],
   "source": [
    "filename = \"trained_model.sav\"\n",
    "pickle.dump(model, open(filename, 'wb'))"
   ]
  },
  {
   "cell_type": "markdown",
   "id": "0ce2c7ea",
   "metadata": {
    "papermill": {
     "duration": 0.048247,
     "end_time": "2022-02-08T12:05:05.336499",
     "exception": false,
     "start_time": "2022-02-08T12:05:05.288252",
     "status": "completed"
    },
    "tags": []
   },
   "source": [
    "## 4.3.Model Validation"
   ]
  },
  {
   "cell_type": "code",
   "execution_count": 31,
   "id": "ce526144",
   "metadata": {
    "execution": {
     "iopub.execute_input": "2022-02-08T12:05:05.438585Z",
     "iopub.status.busy": "2022-02-08T12:05:05.437986Z",
     "iopub.status.idle": "2022-02-08T12:05:05.440268Z",
     "shell.execute_reply": "2022-02-08T12:05:05.440698Z",
     "shell.execute_reply.started": "2022-02-08T12:00:25.946484Z"
    },
    "papermill": {
     "duration": 0.05544,
     "end_time": "2022-02-08T12:05:05.440877",
     "exception": false,
     "start_time": "2022-02-08T12:05:05.385437",
     "status": "completed"
    },
    "tags": []
   },
   "outputs": [],
   "source": [
    "loaded_model = pickle.load(open('trained_model.sav', 'rb'))"
   ]
  },
  {
   "cell_type": "code",
   "execution_count": 32,
   "id": "ea5ddaaf",
   "metadata": {
    "execution": {
     "iopub.execute_input": "2022-02-08T12:05:05.543865Z",
     "iopub.status.busy": "2022-02-08T12:05:05.543097Z",
     "iopub.status.idle": "2022-02-08T12:05:05.545640Z",
     "shell.execute_reply": "2022-02-08T12:05:05.546183Z",
     "shell.execute_reply.started": "2022-02-08T12:03:36.270009Z"
    },
    "papermill": {
     "duration": 0.056664,
     "end_time": "2022-02-08T12:05:05.546342",
     "exception": false,
     "start_time": "2022-02-08T12:05:05.489678",
     "status": "completed"
    },
    "tags": []
   },
   "outputs": [
    {
     "name": "stdout",
     "output_type": "stream",
     "text": [
      "Your medican insurance will cost you around: $ 3834.635087252089\n"
     ]
    }
   ],
   "source": [
    "input_data = (31,1,25.74,0,1,0)\n",
    "\n",
    "#to numpy array and reshaping\n",
    "numpy_input = np.asarray(input_data)\n",
    "proper_input = numpy_input.reshape(1,-1)\n",
    "\n",
    "prediction = loaded_model.predict(proper_input)\n",
    "print('Your medican insurance will cost you around: $', prediction[0])"
   ]
  }
 ],
 "metadata": {
  "kernelspec": {
   "display_name": "Python 3",
   "language": "python",
   "name": "python3"
  },
  "language_info": {
   "codemirror_mode": {
    "name": "ipython",
    "version": 3
   },
   "file_extension": ".py",
   "mimetype": "text/x-python",
   "name": "python",
   "nbconvert_exporter": "python",
   "pygments_lexer": "ipython3",
   "version": "3.7.12"
  },
  "papermill": {
   "default_parameters": {},
   "duration": 18.169311,
   "end_time": "2022-02-08T12:05:06.305666",
   "environment_variables": {},
   "exception": null,
   "input_path": "__notebook__.ipynb",
   "output_path": "__notebook__.ipynb",
   "parameters": {},
   "start_time": "2022-02-08T12:04:48.136355",
   "version": "2.3.3"
  }
 },
 "nbformat": 4,
 "nbformat_minor": 5
}
